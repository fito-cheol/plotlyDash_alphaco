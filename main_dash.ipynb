{
 "cells": [
  {
   "cell_type": "code",
   "execution_count": 1,
   "metadata": {},
   "outputs": [],
   "source": [
    "from dash import Dash, html, dcc, callback, Output, Input\n",
    "import plotly.express as px\n",
    "import pandas as pd\n",
    "from jupyter_dash import JupyterDash\n",
    "import dash_bootstrap_components as dbc\n",
    "import import_ipynb\n"
   ]
  },
  {
   "cell_type": "code",
   "execution_count": 2,
   "metadata": {},
   "outputs": [
    {
     "name": "stdout",
     "output_type": "stream",
     "text": [
      "importing Jupyter notebook from c:\\Users\\dmsgh\\Documents\\plotlyDash_alphaco\\util\\google.ipynb\n",
      "importing Jupyter notebook from c:\\Users\\dmsgh\\Documents\\plotlyDash_alphaco\\pages\\sampleGraph.ipynb\n",
      "importing Jupyter notebook from c:\\Users\\dmsgh\\Documents\\plotlyDash_alphaco\\pages\\repurchase.ipynb\n",
      "importing Jupyter notebook from c:\\Users\\dmsgh\\Documents\\plotlyDash_alphaco\\pages\\eventCustomer.ipynb\n",
      "importing Jupyter notebook from c:\\Users\\dmsgh\\Documents\\plotlyDash_alphaco\\pages\\eventSales.ipynb\n",
      "importing Jupyter notebook from c:\\Users\\dmsgh\\Documents\\plotlyDash_alphaco\\pages\\eventSalesCompare.ipynb\n",
      "importing Jupyter notebook from c:\\Users\\dmsgh\\Documents\\plotlyDash_alphaco\\pages\\newCustomer.ipynb\n",
      "importing Jupyter notebook from c:\\Users\\dmsgh\\Documents\\plotlyDash_alphaco\\pages\\newCustomerSales.ipynb\n"
     ]
    }
   ],
   "source": [
    "from util.google import url_to_dataframe\n",
    "\n",
    "from pages.sampleGraph import sample\n",
    "from pages.repurchase import make_page_repurchase\n",
    "from pages.eventCustomer import make_page_event_customer\n",
    "from pages.eventSales import make_page_event_sale\n",
    "from pages.eventSalesCompare import make_page_event_sales_compare\n",
    "from pages.newCustomer import make_page_new_customer\n",
    "from pages.newCustomerSales import make_page_new_customer_sales\n",
    "\n",
    "\n",
    "processed_df_link = \"https://drive.google.com/file/d/1l9S5UU5f7L-OeKWhMRctCdSvVVxlFt_8/view?usp=sharing\"\n",
    "\n",
    "############################\n",
    "\n",
    "df = url_to_dataframe(processed_df_link)\n",
    "df['구매일'] = pd.to_datetime(df['구매일'])\n",
    "\n"
   ]
  },
  {
   "cell_type": "code",
   "execution_count": 3,
   "metadata": {},
   "outputs": [
    {
     "ename": "ModuleNotFoundError",
     "evalue": "No module named 'statsmodels'",
     "output_type": "error",
     "traceback": [
      "\u001b[1;31m---------------------------------------------------------------------------\u001b[0m",
      "\u001b[1;31mModuleNotFoundError\u001b[0m                       Traceback (most recent call last)",
      "Cell \u001b[1;32mIn[3], line 10\u001b[0m\n\u001b[0;32m      1\u001b[0m \u001b[39m############################\u001b[39;00m\n\u001b[0;32m      3\u001b[0m tabs \u001b[39m=\u001b[39m dcc\u001b[39m.\u001b[39mTabs([\n\u001b[0;32m      4\u001b[0m         dcc\u001b[39m.\u001b[39mTab(label\u001b[39m=\u001b[39m\u001b[39m'\u001b[39m\u001b[39m샘플\u001b[39m\u001b[39m'\u001b[39m, children\u001b[39m=\u001b[39msample(df\u001b[39m.\u001b[39mcopy())),\n\u001b[0;32m      5\u001b[0m         dcc\u001b[39m.\u001b[39mTab(label\u001b[39m=\u001b[39m\u001b[39m'\u001b[39m\u001b[39m재구매\u001b[39m\u001b[39m'\u001b[39m, children\u001b[39m=\u001b[39mmake_page_repurchase(df\u001b[39m.\u001b[39mcopy())),\n\u001b[0;32m      6\u001b[0m         dcc\u001b[39m.\u001b[39mTab(label\u001b[39m=\u001b[39m\u001b[39m'\u001b[39m\u001b[39m이벤트 고객\u001b[39m\u001b[39m'\u001b[39m, children\u001b[39m=\u001b[39mmake_page_event_customer(df\u001b[39m.\u001b[39mcopy())),\n\u001b[0;32m      7\u001b[0m         dcc\u001b[39m.\u001b[39mTab(label\u001b[39m=\u001b[39m\u001b[39m'\u001b[39m\u001b[39m이벤트 판매\u001b[39m\u001b[39m'\u001b[39m, children\u001b[39m=\u001b[39mmake_page_event_sale(df\u001b[39m.\u001b[39mcopy())),\n\u001b[0;32m      8\u001b[0m         dcc\u001b[39m.\u001b[39mTab(label\u001b[39m=\u001b[39m\u001b[39m'\u001b[39m\u001b[39m이벤트 판매 비교\u001b[39m\u001b[39m'\u001b[39m, children\u001b[39m=\u001b[39mmake_page_event_sales_compare()),\n\u001b[0;32m      9\u001b[0m         dcc\u001b[39m.\u001b[39mTab(label\u001b[39m=\u001b[39m\u001b[39m'\u001b[39m\u001b[39m신규 고객\u001b[39m\u001b[39m'\u001b[39m, children\u001b[39m=\u001b[39mmake_page_new_customer(df\u001b[39m.\u001b[39mcopy())),\n\u001b[1;32m---> 10\u001b[0m         dcc\u001b[39m.\u001b[39mTab(label\u001b[39m=\u001b[39m\u001b[39m'\u001b[39m\u001b[39m신규 고객과 판매\u001b[39m\u001b[39m'\u001b[39m, children\u001b[39m=\u001b[39mmake_page_new_customer_sales()),\n\u001b[0;32m     11\u001b[0m     ])\n\u001b[0;32m     12\u001b[0m \u001b[39m############################\u001b[39;00m\n\u001b[0;32m     14\u001b[0m external_stylesheets \u001b[39m=\u001b[39m [\u001b[39m'\u001b[39m\u001b[39mhttps://codepen.io/chriddyp/pen/bWLwgP.css\u001b[39m\u001b[39m'\u001b[39m, dbc\u001b[39m.\u001b[39mthemes\u001b[39m.\u001b[39mBOOTSTRAP]\n",
      "File \u001b[1;32m<string>:26\u001b[0m, in \u001b[0;36mmake_page_new_customer_sales\u001b[1;34m()\u001b[0m\n",
      "File \u001b[1;32m<string>:16\u001b[0m, in \u001b[0;36mmake_fig\u001b[1;34m()\u001b[0m\n",
      "File \u001b[1;32mc:\\Users\\dmsgh\\Documents\\plotlyDash_alphaco\\.venv\\lib\\site-packages\\plotly\\express\\_chart_types.py:66\u001b[0m, in \u001b[0;36mscatter\u001b[1;34m(data_frame, x, y, color, symbol, size, hover_name, hover_data, custom_data, text, facet_row, facet_col, facet_col_wrap, facet_row_spacing, facet_col_spacing, error_x, error_x_minus, error_y, error_y_minus, animation_frame, animation_group, category_orders, labels, orientation, color_discrete_sequence, color_discrete_map, color_continuous_scale, range_color, color_continuous_midpoint, symbol_sequence, symbol_map, opacity, size_max, marginal_x, marginal_y, trendline, trendline_options, trendline_color_override, trendline_scope, log_x, log_y, range_x, range_y, render_mode, title, template, width, height)\u001b[0m\n\u001b[0;32m     12\u001b[0m \u001b[39mdef\u001b[39;00m \u001b[39mscatter\u001b[39m(\n\u001b[0;32m     13\u001b[0m     data_frame\u001b[39m=\u001b[39m\u001b[39mNone\u001b[39;00m,\n\u001b[0;32m     14\u001b[0m     x\u001b[39m=\u001b[39m\u001b[39mNone\u001b[39;00m,\n\u001b[1;32m   (...)\u001b[0m\n\u001b[0;32m     60\u001b[0m     height\u001b[39m=\u001b[39m\u001b[39mNone\u001b[39;00m,\n\u001b[0;32m     61\u001b[0m ) \u001b[39m-\u001b[39m\u001b[39m>\u001b[39m go\u001b[39m.\u001b[39mFigure:\n\u001b[0;32m     62\u001b[0m \u001b[39m    \u001b[39m\u001b[39m\"\"\"\u001b[39;00m\n\u001b[0;32m     63\u001b[0m \u001b[39m    In a scatter plot, each row of `data_frame` is represented by a symbol\u001b[39;00m\n\u001b[0;32m     64\u001b[0m \u001b[39m    mark in 2D space.\u001b[39;00m\n\u001b[0;32m     65\u001b[0m \u001b[39m    \"\"\"\u001b[39;00m\n\u001b[1;32m---> 66\u001b[0m     \u001b[39mreturn\u001b[39;00m make_figure(args\u001b[39m=\u001b[39;49m\u001b[39mlocals\u001b[39;49m(), constructor\u001b[39m=\u001b[39;49mgo\u001b[39m.\u001b[39;49mScatter)\n",
      "File \u001b[1;32mc:\\Users\\dmsgh\\Documents\\plotlyDash_alphaco\\.venv\\lib\\site-packages\\plotly\\express\\_core.py:2173\u001b[0m, in \u001b[0;36mmake_figure\u001b[1;34m(args, constructor, trace_patch, layout_patch)\u001b[0m\n\u001b[0;32m   2170\u001b[0m     \u001b[39melif\u001b[39;00m args[\u001b[39m\"\u001b[39m\u001b[39mecdfnorm\u001b[39m\u001b[39m\"\u001b[39m] \u001b[39m==\u001b[39m \u001b[39m\"\u001b[39m\u001b[39mpercent\u001b[39m\u001b[39m\"\u001b[39m:\n\u001b[0;32m   2171\u001b[0m         group[var] \u001b[39m=\u001b[39m \u001b[39m100.0\u001b[39m \u001b[39m*\u001b[39m group[var] \u001b[39m/\u001b[39m group_sum\n\u001b[1;32m-> 2173\u001b[0m patch, fit_results \u001b[39m=\u001b[39m make_trace_kwargs(\n\u001b[0;32m   2174\u001b[0m     args, trace_spec, group, mapping_labels\u001b[39m.\u001b[39;49mcopy(), sizeref\n\u001b[0;32m   2175\u001b[0m )\n\u001b[0;32m   2176\u001b[0m trace\u001b[39m.\u001b[39mupdate(patch)\n\u001b[0;32m   2177\u001b[0m \u001b[39mif\u001b[39;00m fit_results \u001b[39mis\u001b[39;00m \u001b[39mnot\u001b[39;00m \u001b[39mNone\u001b[39;00m:\n",
      "File \u001b[1;32mc:\\Users\\dmsgh\\Documents\\plotlyDash_alphaco\\.venv\\lib\\site-packages\\plotly\\express\\_core.py:359\u001b[0m, in \u001b[0;36mmake_trace_kwargs\u001b[1;34m(args, trace_spec, trace_data, mapping_labels, sizeref)\u001b[0m\n\u001b[0;32m    357\u001b[0m trace_patch[\u001b[39m\"\u001b[39m\u001b[39mx\u001b[39m\u001b[39m\"\u001b[39m] \u001b[39m=\u001b[39m sorted_trace_data[args[\u001b[39m\"\u001b[39m\u001b[39mx\u001b[39m\u001b[39m\"\u001b[39m]][non_missing]\n\u001b[0;32m    358\u001b[0m trendline_function \u001b[39m=\u001b[39m trendline_functions[attr_value]\n\u001b[1;32m--> 359\u001b[0m y_out, hover_header, fit_results \u001b[39m=\u001b[39m trendline_function(\n\u001b[0;32m    360\u001b[0m     args[\u001b[39m\"\u001b[39;49m\u001b[39mtrendline_options\u001b[39;49m\u001b[39m\"\u001b[39;49m],\n\u001b[0;32m    361\u001b[0m     sorted_trace_data[args[\u001b[39m\"\u001b[39;49m\u001b[39mx\u001b[39;49m\u001b[39m\"\u001b[39;49m]],\n\u001b[0;32m    362\u001b[0m     x,\n\u001b[0;32m    363\u001b[0m     y,\n\u001b[0;32m    364\u001b[0m     args[\u001b[39m\"\u001b[39;49m\u001b[39mx\u001b[39;49m\u001b[39m\"\u001b[39;49m],\n\u001b[0;32m    365\u001b[0m     args[\u001b[39m\"\u001b[39;49m\u001b[39my\u001b[39;49m\u001b[39m\"\u001b[39;49m],\n\u001b[0;32m    366\u001b[0m     non_missing,\n\u001b[0;32m    367\u001b[0m )\n\u001b[0;32m    368\u001b[0m \u001b[39massert\u001b[39;00m \u001b[39mlen\u001b[39m(y_out) \u001b[39m==\u001b[39m \u001b[39mlen\u001b[39m(\n\u001b[0;32m    369\u001b[0m     trace_patch[\u001b[39m\"\u001b[39m\u001b[39mx\u001b[39m\u001b[39m\"\u001b[39m]\n\u001b[0;32m    370\u001b[0m ), \u001b[39m\"\u001b[39m\u001b[39mmissing-data-handling failure in trendline code\u001b[39m\u001b[39m\"\u001b[39m\n\u001b[0;32m    371\u001b[0m trace_patch[\u001b[39m\"\u001b[39m\u001b[39my\u001b[39m\u001b[39m\"\u001b[39m] \u001b[39m=\u001b[39m y_out\n",
      "File \u001b[1;32mc:\\Users\\dmsgh\\Documents\\plotlyDash_alphaco\\.venv\\lib\\site-packages\\plotly\\express\\trendline_functions\\__init__.py:43\u001b[0m, in \u001b[0;36mols\u001b[1;34m(trendline_options, x_raw, x, y, x_label, y_label, non_missing)\u001b[0m\n\u001b[0;32m     37\u001b[0m     \u001b[39mif\u001b[39;00m k \u001b[39mnot\u001b[39;00m \u001b[39min\u001b[39;00m valid_options:\n\u001b[0;32m     38\u001b[0m         \u001b[39mraise\u001b[39;00m \u001b[39mValueError\u001b[39;00m(\n\u001b[0;32m     39\u001b[0m             \u001b[39m\"\u001b[39m\u001b[39mOLS trendline_options keys must be one of [\u001b[39m\u001b[39m%s\u001b[39;00m\u001b[39m] but got \u001b[39m\u001b[39m'\u001b[39m\u001b[39m%s\u001b[39;00m\u001b[39m'\u001b[39m\u001b[39m\"\u001b[39m\n\u001b[0;32m     40\u001b[0m             \u001b[39m%\u001b[39m (\u001b[39m\"\u001b[39m\u001b[39m, \u001b[39m\u001b[39m\"\u001b[39m\u001b[39m.\u001b[39mjoin(valid_options), k)\n\u001b[0;32m     41\u001b[0m         )\n\u001b[1;32m---> 43\u001b[0m \u001b[39mimport\u001b[39;00m \u001b[39mstatsmodels\u001b[39;00m\u001b[39m.\u001b[39;00m\u001b[39mapi\u001b[39;00m \u001b[39mas\u001b[39;00m \u001b[39msm\u001b[39;00m\n\u001b[0;32m     45\u001b[0m add_constant \u001b[39m=\u001b[39m trendline_options\u001b[39m.\u001b[39mget(\u001b[39m\"\u001b[39m\u001b[39madd_constant\u001b[39m\u001b[39m\"\u001b[39m, \u001b[39mTrue\u001b[39;00m)\n\u001b[0;32m     46\u001b[0m log_x \u001b[39m=\u001b[39m trendline_options\u001b[39m.\u001b[39mget(\u001b[39m\"\u001b[39m\u001b[39mlog_x\u001b[39m\u001b[39m\"\u001b[39m, \u001b[39mFalse\u001b[39;00m)\n",
      "\u001b[1;31mModuleNotFoundError\u001b[0m: No module named 'statsmodels'"
     ]
    }
   ],
   "source": [
    "############################\n",
    "\n",
    "tabs = dcc.Tabs([\n",
    "        dcc.Tab(label='샘플', children=sample(df.copy())),\n",
    "        dcc.Tab(label='재구매', children=make_page_repurchase(df.copy())),\n",
    "        dcc.Tab(label='이벤트 고객', children=make_page_event_customer(df.copy())),\n",
    "        dcc.Tab(label='이벤트 판매', children=make_page_event_sale(df.copy())),\n",
    "        dcc.Tab(label='이벤트 판매 비교', children=make_page_event_sales_compare()),\n",
    "        dcc.Tab(label='신규 고객', children=make_page_new_customer(df.copy())),\n",
    "        dcc.Tab(label='신규 고객과 판매', children=make_page_new_customer_sales()),\n",
    "    ])\n",
    "############################\n",
    "\n",
    "external_stylesheets = ['https://codepen.io/chriddyp/pen/bWLwgP.css', dbc.themes.BOOTSTRAP]\n",
    "\n",
    "app = JupyterDash(\"6조 대쉬보드\", external_stylesheets=external_stylesheets)\n",
    "\n",
    "app.layout = html.Div([tabs])\n",
    "\n",
    "\n",
    "if __name__ == '__main__':\n",
    "    app.run_server(debug=True)"
   ]
  }
 ],
 "metadata": {
  "kernelspec": {
   "display_name": "Python 3.10.0 64-bit",
   "language": "python",
   "name": "python3"
  },
  "language_info": {
   "codemirror_mode": {
    "name": "ipython",
    "version": 3
   },
   "file_extension": ".py",
   "mimetype": "text/x-python",
   "name": "python",
   "nbconvert_exporter": "python",
   "pygments_lexer": "ipython3",
   "version": "3.10.0"
  },
  "orig_nbformat": 4,
  "vscode": {
   "interpreter": {
    "hash": "bf0298fd59795c9991315a0c23ba468af34e1a4943ee7c9b647a8b2b1e661b85"
   }
  }
 },
 "nbformat": 4,
 "nbformat_minor": 2
}
