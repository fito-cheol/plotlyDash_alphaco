{
 "cells": [
  {
   "cell_type": "code",
   "execution_count": 1,
   "metadata": {},
   "outputs": [],
   "source": [
    "from dash import Dash, html, dcc, callback, Output, Input\n",
    "import plotly.express as px\n",
    "import pandas as pd\n",
    "from jupyter_dash import JupyterDash\n",
    "import dash_bootstrap_components as dbc\n",
    "import import_ipynb\n"
   ]
  },
  {
   "cell_type": "code",
   "execution_count": null,
   "metadata": {},
   "outputs": [],
   "source": [
    "from util.google import url_to_dataframe\n",
    "\n",
    "from pages.sampleGraph import sample\n",
    "from pages.repurchase import make_page_repurchase\n",
    "from pages.eventCustomer import make_page_event_customer\n",
    "from pages.eventSales import make_page_event_sale\n",
    "from pages.eventSalesCompare import make_page_event_sales_compare\n",
    "from pages.newCustomer import make_page_new_customer\n",
    "from pages.newCustomerSales import make_page_new_customer_sales\n",
    "\n",
    "\n",
    "processed_df_link = \"https://drive.google.com/file/d/1l9S5UU5f7L-OeKWhMRctCdSvVVxlFt_8/view?usp=sharing\"\n",
    "\n",
    "############################\n",
    "\n",
    "df = url_to_dataframe(processed_df_link)\n",
    "df['구매일'] = pd.to_datetime(df['구매일'])\n",
    "\n"
   ]
  },
  {
   "cell_type": "code",
   "execution_count": null,
   "metadata": {},
   "outputs": [],
   "source": [
    "############################\n",
    "\n",
    "layout_repurchase = []\n",
    "layout_repurchase.extend(make_page_repurchase(df.copy()))\n",
    "layout_repurchase.extend(make_page_event_customer(df.copy()))\n",
    "layout_repurchase.extend(make_page_event_sale(df.copy()))\n",
    "layout_repurchase.extend(make_page_event_sales_compare())\n",
    "layout_repurchase.extend(make_page_new_customer(df.copy()))\n",
    "layout_repurchase.extend(make_page_new_customer_sales())\n",
    "\n",
    "tabs = dcc.Tabs([\n",
    "        dcc.Tab(label='현황', children=sample(df.copy())),\n",
    "        dcc.Tab(label='재구매', children=layout_repurchase), \n",
    "        dcc.Tab(label='모델링', children=[]),\n",
    "    ])\n",
    "############################\n",
    "\n",
    "external_stylesheets = ['https://codepen.io/chriddyp/pen/bWLwgP.css', dbc.themes.BOOTSTRAP]\n",
    "\n",
    "app = JupyterDash(\"6조 대쉬보드\", external_stylesheets=external_stylesheets)\n",
    "\n",
    "app.layout = html.Div([tabs])\n",
    "\n",
    "\n",
    "if __name__ == '__main__':\n",
    "    app.run_server(debug=True)"
   ]
  }
 ],
 "metadata": {
  "kernelspec": {
   "display_name": "Python 3.10.0 64-bit",
   "language": "python",
   "name": "python3"
  },
  "language_info": {
   "codemirror_mode": {
    "name": "ipython",
    "version": 3
   },
   "file_extension": ".py",
   "mimetype": "text/x-python",
   "name": "python",
   "nbconvert_exporter": "python",
   "pygments_lexer": "ipython3",
   "version": "3.8.6"
  },
  "orig_nbformat": 4,
  "vscode": {
   "interpreter": {
    "hash": "bf0298fd59795c9991315a0c23ba468af34e1a4943ee7c9b647a8b2b1e661b85"
   }
  }
 },
 "nbformat": 4,
 "nbformat_minor": 2
}
