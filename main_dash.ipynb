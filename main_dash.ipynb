{
 "cells": [
  {
   "cell_type": "code",
   "execution_count": 1,
   "metadata": {},
   "outputs": [],
   "source": [
    "from dash import Dash, html, dcc, callback, Output, Input\n",
    "import plotly.express as px\n",
    "import pandas as pd\n",
    "from jupyter_dash import JupyterDash\n",
    "import dash_bootstrap_components as dbc\n",
    "import import_ipynb\n"
   ]
  },
  {
   "cell_type": "code",
   "execution_count": 2,
   "metadata": {},
   "outputs": [
    {
     "name": "stdout",
     "output_type": "stream",
     "text": [
      "importing Jupyter notebook from c:\\Users\\dmsgh\\OneDrive\\문서\\plotlyDash_alphaco\\util\\google.ipynb\n",
      "importing Jupyter notebook from c:\\Users\\dmsgh\\OneDrive\\문서\\plotlyDash_alphaco\\components\\layoutSecondTab.ipynb\n",
      "importing Jupyter notebook from c:\\Users\\dmsgh\\OneDrive\\문서\\plotlyDash_alphaco\\pages\\eventCustomer.ipynb\n",
      "importing Jupyter notebook from c:\\Users\\dmsgh\\OneDrive\\문서\\plotlyDash_alphaco\\pages\\eventEffectTab1.ipynb\n",
      "importing Jupyter notebook from c:\\Users\\dmsgh\\OneDrive\\문서\\plotlyDash_alphaco\\pages\\eventEffectTab2.ipynb\n",
      "importing Jupyter notebook from c:\\Users\\dmsgh\\OneDrive\\문서\\plotlyDash_alphaco\\pages\\eventSales.ipynb\n",
      "importing Jupyter notebook from c:\\Users\\dmsgh\\OneDrive\\문서\\plotlyDash_alphaco\\pages\\eventSalesCompare.ipynb\n",
      "importing Jupyter notebook from c:\\Users\\dmsgh\\OneDrive\\문서\\plotlyDash_alphaco\\pages\\modelCustomerClassification.ipynb\n",
      "importing Jupyter notebook from c:\\Users\\dmsgh\\OneDrive\\문서\\plotlyDash_alphaco\\pages\\modelKeyword.ipynb\n",
      "importing Jupyter notebook from c:\\Users\\dmsgh\\OneDrive\\문서\\plotlyDash_alphaco\\pages\\newCustomer.ipynb\n",
      "importing Jupyter notebook from c:\\Users\\dmsgh\\OneDrive\\문서\\plotlyDash_alphaco\\pages\\newCustomerSales.ipynb\n",
      "importing Jupyter notebook from c:\\Users\\dmsgh\\OneDrive\\문서\\plotlyDash_alphaco\\pages\\repurchase.ipynb\n",
      "importing Jupyter notebook from c:\\Users\\dmsgh\\OneDrive\\문서\\plotlyDash_alphaco\\pages\\sampleGraph.ipynb\n"
     ]
    }
   ],
   "source": [
    "\n",
    "from util.google import url_to_dataframe\n",
    "\n",
    "from components.layoutSecondTab import make_layout_second_tab\n",
    "\n",
    "from pages.eventCustomer import make_page_event_customer\n",
    "from pages.eventEffectTab1 import make_page_event_tab1\n",
    "from pages.eventEffectTab2 import make_page_event_tab2\n",
    "from pages.eventSales import make_page_event_sale\n",
    "from pages.eventSalesCompare import make_page_event_sales_compare\n",
    "\n",
    "from pages.modelCustomerClassification import make_page_model_customer_classification\n",
    "from pages.modelKeyword import make_page_model_keyword\n",
    "\n",
    "from pages.newCustomer import make_page_new_customer\n",
    "from pages.newCustomerSales import make_page_new_customer_sales\n",
    "from pages.repurchase import make_page_repurchase\n",
    "from pages.sampleGraph import sample\n",
    "\n",
    "\n",
    "\n",
    "processed_df_link = \"https://drive.google.com/file/d/1l9S5UU5f7L-OeKWhMRctCdSvVVxlFt_8/view?usp=sharing\"\n",
    "\n",
    "df = url_to_dataframe(processed_df_link)\n",
    "df['구매일'] = pd.to_datetime(df['구매일'])\n",
    "\n"
   ]
  },
  {
   "cell_type": "code",
   "execution_count": 3,
   "metadata": {},
   "outputs": [
    {
     "name": "stdout",
     "output_type": "stream",
     "text": [
      "Dash is running on http://127.0.0.1:8050/\n",
      "\n",
      "Dash app running on http://127.0.0.1:8050/\n"
     ]
    }
   ],
   "source": [
    "\n",
    "external_stylesheets = ['https://codepen.io/chriddyp/pen/bWLwgP.css', dbc.themes.QUARTZ]\n",
    "\n",
    "app = JupyterDash(__name__, external_stylesheets=external_stylesheets, assets_folder='./assets')\n",
    "\n",
    "############################\n",
    "\n",
    "layout_repurchase = []\n",
    "layout_repurchase.append(make_page_event_sale(df.copy()))\n",
    "layout_repurchase.append(make_page_event_tab1())\n",
    "layout_repurchase.append(make_page_event_tab2())\n",
    "layout_repurchase.append(make_page_repurchase(df.copy()))\n",
    "layout_repurchase.append(make_page_new_customer(df.copy()))\n",
    "\n",
    "layout_second_tab = make_layout_second_tab(layout_repurchase)\n",
    "\n",
    "layout_third_tab = []\n",
    "layout_third_tab.extend(make_page_model_keyword())\n",
    "layout_third_tab.extend(make_page_model_customer_classification())\n",
    "\n",
    "\n",
    "tabs = dbc.Tabs([\n",
    "        dbc.Tab(label='현황', children=sample(df.copy())),\n",
    "        dbc.Tab(label='데이터분석', children=[layout_second_tab]), \n",
    "        dbc.Tab(label='모델링', children=layout_third_tab),\n",
    "    ])\n",
    "\n",
    "app.layout = html.Div(\n",
    "    [tabs],\n",
    "    className=\"body__sheet\"\n",
    ")\n",
    "\n",
    "if __name__ == '__main__':\n",
    "    app.run_server(debug=True)"
   ]
  }
 ],
 "metadata": {
  "kernelspec": {
   "display_name": "Python 3.10.0 64-bit",
   "language": "python",
   "name": "python3"
  },
  "language_info": {
   "codemirror_mode": {
    "name": "ipython",
    "version": 3
   },
   "file_extension": ".py",
   "mimetype": "text/x-python",
   "name": "python",
   "nbconvert_exporter": "python",
   "pygments_lexer": "ipython3",
   "version": "3.8.6"
  },
  "orig_nbformat": 4,
  "vscode": {
   "interpreter": {
    "hash": "bf0298fd59795c9991315a0c23ba468af34e1a4943ee7c9b647a8b2b1e661b85"
   }
  }
 },
 "nbformat": 4,
 "nbformat_minor": 2
}
