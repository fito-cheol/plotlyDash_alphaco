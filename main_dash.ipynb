{
 "cells": [
  {
   "cell_type": "code",
   "execution_count": 9,
   "metadata": {},
   "outputs": [
    {
     "ename": "ModuleNotFoundError",
     "evalue": "No module named 'dash'",
     "output_type": "error",
     "traceback": [
      "\u001b[1;31m---------------------------------------------------------------------------\u001b[0m",
      "\u001b[1;31mModuleNotFoundError\u001b[0m                       Traceback (most recent call last)",
      "Cell \u001b[1;32mIn[9], line 1\u001b[0m\n\u001b[1;32m----> 1\u001b[0m \u001b[39mfrom\u001b[39;00m \u001b[39mdash\u001b[39;00m \u001b[39mimport\u001b[39;00m Dash, html, dcc, callback, Output, Input\n\u001b[0;32m      2\u001b[0m \u001b[39mimport\u001b[39;00m \u001b[39mplotly\u001b[39;00m\u001b[39m.\u001b[39;00m\u001b[39mexpress\u001b[39;00m \u001b[39mas\u001b[39;00m \u001b[39mpx\u001b[39;00m\n\u001b[0;32m      3\u001b[0m \u001b[39mimport\u001b[39;00m \u001b[39mpandas\u001b[39;00m \u001b[39mas\u001b[39;00m \u001b[39mpd\u001b[39;00m\n",
      "\u001b[1;31mModuleNotFoundError\u001b[0m: No module named 'dash'"
     ]
    }
   ],
   "source": [
    "from dash import Dash, html, dcc, callback, Output, Input\n",
    "import plotly.express as px\n",
    "import pandas as pd\n",
    "from jupyter_dash import JupyterDash\n",
    "import dash_bootstrap_components as dbc\n",
    "import import_ipynb\n"
   ]
  },
  {
   "cell_type": "code",
   "execution_count": null,
   "metadata": {},
   "outputs": [
    {
     "name": "stdout",
     "output_type": "stream",
     "text": [
      "importing Jupyter notebook from c:\\Users\\dmsgh\\Documents\\python_vs\\pages\\sampleGraph.ipynb\n",
      "importing Jupyter notebook from c:\\Users\\dmsgh\\Documents\\python_vs\\pages\\repurchase.ipynb\n",
      "importing Jupyter notebook from c:\\Users\\dmsgh\\Documents\\python_vs\\components\\tab.ipynb\n",
      "importing Jupyter notebook from c:\\Users\\dmsgh\\Documents\\python_vs\\util\\google.ipynb\n"
     ]
    }
   ],
   "source": [
    "from pages.sampleGraph import sample\n",
    "from pages.repurchase import make_page_repurchase\n",
    "from components.tab import make_tabs\n",
    "from util.google import url_to_dataframe\n",
    "\n",
    "processed_df_link = \"https://drive.google.com/file/d/1l9S5UU5f7L-OeKWhMRctCdSvVVxlFt_8/view?usp=sharing\"\n",
    "\n",
    "############################\n",
    "\n",
    "df = url_to_dataframe(processed_df_link)\n",
    "df['구매일'] = pd.to_datetime(df['구매일'])\n",
    "\n"
   ]
  },
  {
   "cell_type": "code",
   "execution_count": null,
   "metadata": {},
   "outputs": [
    {
     "name": "stdout",
     "output_type": "stream",
     "text": [
      "Dash is running on http://127.0.0.1:8050/\n",
      "\n",
      "Dash app running on http://127.0.0.1:8050/\n"
     ]
    },
    {
     "name": "stdout",
     "output_type": "stream",
     "text": [
      "updateGraph 인스타그램 196608\n"
     ]
    }
   ],
   "source": [
    "############################\n",
    "\n",
    "sample_layout = sample(df.copy())\n",
    "repurchase_layout = make_page_repurchase(df.copy())\n",
    "tabs =  dcc.Tabs([\n",
    "        dcc.Tab(label='샘플', children=sample_layout),\n",
    "        dcc.Tab(label='재구매', children=repurchase_layout)\n",
    "    ])\n",
    "############################\n",
    "\n",
    "external_stylesheets = ['https://codepen.io/chriddyp/pen/bWLwgP.css', dbc.themes.BOOTSTRAP]\n",
    "\n",
    "app = JupyterDash(\"6조 대쉬보드\", external_stylesheets=external_stylesheets)\n",
    "\n",
    "app.layout = html.Div([tabs])\n",
    "\n",
    "\n",
    "if __name__ == '__main__':\n",
    "    app.run_server(debug=True)"
   ]
  }
 ],
 "metadata": {
  "kernelspec": {
   "display_name": "Python 3.10.0 64-bit",
   "language": "python",
   "name": "python3"
  },
  "language_info": {
   "codemirror_mode": {
    "name": "ipython",
    "version": 3
   },
   "file_extension": ".py",
   "mimetype": "text/x-python",
   "name": "python",
   "nbconvert_exporter": "python",
   "pygments_lexer": "ipython3",
   "version": "3.10.0"
  },
  "orig_nbformat": 4,
  "vscode": {
   "interpreter": {
    "hash": "bf0298fd59795c9991315a0c23ba468af34e1a4943ee7c9b647a8b2b1e661b85"
   }
  }
 },
 "nbformat": 4,
 "nbformat_minor": 2
}
