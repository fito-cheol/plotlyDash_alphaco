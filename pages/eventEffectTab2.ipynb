{
 "cells": [
  {
   "cell_type": "code",
   "execution_count": null,
   "metadata": {},
   "outputs": [],
   "source": [
    "\n",
    "from dash import Dash, html, dcc, callback, Output, Input\n",
    "import plotly.graph_objects as go\n",
    "import pandas as pd\n",
    "import plotly.graph_objects as go\n",
    "\n",
    "colors = ['#FF9933',] * 5\n",
    "colors[0] = '#56BDF4'\n",
    "colors2 = ['#56BDF4', '#D3D3D3']\n",
    "\n",
    "def make_page_event_tab2():\n",
    "\n",
    "    fig = go.Figure(data=[go.Pie(labels = ['이벤트X제품도 구매', '이벤트제품만 구매'],\n",
    "                            values = [12661, 1982])])\n",
    "    fig.update_traces(hoverinfo='label+percent', textinfo='percent', textfont_size=20,textfont=dict(color='black'),\n",
    "                marker=dict(colors=colors2, line=dict(color='#000000', width=2)))\n",
    "    fig.update_layout(\n",
    "            title={\n",
    "                'text': \"재구매할때 이벤트X제품 구매\",\n",
    "                'y': 0.95,\n",
    "                'x': 0.5,\n",
    "                'xanchor': 'center',\n",
    "                'yanchor': 'top'\n",
    "            }\n",
    "        )\n",
    "    fig.update_layout(legend=dict( font=dict(size=20)))\n",
    "    \n",
    "    layout = go.Layout(\n",
    "            paper_bgcolor='rgba(255,255,255,0.6)',\n",
    "            plot_bgcolor='rgba(0,0,0,0)'\n",
    "        )\n",
    "    fig.update_layout(layout)\n",
    "    \n",
    "    return dcc.Graph(figure=fig)\n",
    "      \n",
    "    \n",
    "if __name__ == '__main__':\n",
    "    import import_ipynb\n",
    "    from util.storybook import run\n",
    "    run(make_page_event_sales_compare, need_data=False)"
   ]
  }
 ],
 "metadata": {
  "language_info": {
   "name": "python"
  },
  "orig_nbformat": 4
 },
 "nbformat": 4,
 "nbformat_minor": 2
}
