{
  "cells": [
    {
      "cell_type": "code",
      "execution_count": null,
      "metadata": {},
      "outputs": [],
      "source": [
        "from dash import Dash, html, dcc, callback, Output, Input\n",
        "import plotly.express as px\n",
        "import plotly.graph_objects as go\n",
        "import pandas as pd\n",
        "import plotly.graph_objects as go\n",
        "\n",
        "\n",
        "def make_page_model_keyword():\n",
        "  div_upper = html.Div(\n",
        "        children=[\n",
        "            html.Div(\n",
        "                children=[\n",
        "                    html.H1(\"키워드 예측 모델\"),\n",
        "                    html.H3(\"시계열 예측 라이브러리인 Prophet을 사용\") \n",
        "                ],\n",
        "                style={'width': '50%', 'height': '100%'}\n",
        "            ),\n",
        "        ],\n",
        "      style={'display': 'flex'},\n",
        "      className=\"row\"\n",
        "    )\n",
        "  div_bottom = html.Div(\n",
        "    className=\"row container--gradient\",\n",
        "    children=[html.Img(src='assets/키워드모델.webp')])\n",
        "  return [html.Div([\n",
        "        div_upper,  \n",
        "        div_bottom \n",
        "    ])]\n",
        "\n"
      ]
    }
  ],
  "metadata": {
    "language_info": {
      "name": "python"
    },
    "orig_nbformat": 4
  },
  "nbformat": 4,
  "nbformat_minor": 2
}
