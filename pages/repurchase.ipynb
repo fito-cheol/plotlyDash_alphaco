{
  "cells": [
    {
      "cell_type": "code",
      "execution_count": 2,
      "metadata": {},
      "outputs": [
        {
          "name": "stdout",
          "output_type": "stream",
          "text": [
            "importing Jupyter notebook from c:\\Users\\dmsgh\\OneDrive\\문서\\plotlyDash_alphaco\\pages\\util\\storybook.ipynb\n",
            "importing Jupyter notebook from c:\\Users\\dmsgh\\OneDrive\\문서\\plotlyDash_alphaco\\pages\\util\\google.ipynb\n",
            "Dash is running on http://127.0.0.1:8091/\n",
            "\n",
            "Dash app running on http://127.0.0.1:8091/\n"
          ]
        },
        {
          "ename": "",
          "evalue": "",
          "output_type": "error",
          "traceback": [
            "\u001b[1;31mThe Kernel crashed while executing code in the the current cell or a previous cell. Please review the code in the cell(s) to identify a possible cause of the failure. Click <a href='https://aka.ms/vscodeJupyterKernelCrash'>here</a> for more info. View Jupyter <a href='command:jupyter.viewOutput'>log</a> for further details."
          ]
        }
      ],
      "source": [
        "from dash import Dash, html, dcc, callback, Output, Input\n",
        "import plotly.express as px\n",
        "from datetime import timedelta\n",
        "import pandas as pd\n",
        "import plotly.graph_objects as go\n",
        "\n",
        "\n",
        "def makeFig(df):\n",
        "    processed_df = df.drop(columns=[\"Unnamed: 0\", '상품명', '구매일(월)', 'ID', '거주지역', '물품대분류'])\n",
        "    \n",
        "    agg_dict = {'성별':'first', '결혼유무':'first', '연령':'first', '결제등록카드':'first', '유입경로':'first', '자녀여부':'first', '구매일':'first',\n",
        "       '구매시월령(수정)':'first', '고객번호':'first', '구매금액': 'sum', '결제금액': 'sum', '배송시간':'first'\n",
        "       }\n",
        "    merged_data = processed_df.groupby('주문번호').agg(agg_dict).reset_index()\n",
        "    merged_data['구매일'] = pd.to_datetime(merged_data['구매일']) \n",
        "    merged_data['구매횟수'] = merged_data.groupby(['고객번호', '구매일']).cumcount()\n",
        "    merged_data['구매횟수'].fillna(0, inplace=True)\n",
        "    merged_data['구매횟수'] = merged_data['구매횟수'].astype(int)\n",
        "    merged_data = merged_data[merged_data['구매시월령(수정)'] < 29.5]\n",
        "\n",
        "    rebuy_rate = merged_data.copy()\n",
        "\n",
        "    rebuy_rate.sort_values(by='구매일', inplace=True, ascending=False)\n",
        "    # Group by '고객번호' and calculate the difference between consecutive '구매일'\n",
        "    rebuy_rate['구매일_diff'] = rebuy_rate.groupby('고객번호')['구매일'].diff()\n",
        "\n",
        "    # Convert '구매일_diff' column to days\n",
        "    rebuy_rate['구매일_diff'] = rebuy_rate['구매일_diff'] / timedelta(days=1)\n",
        "\n",
        "    # Create a boolean mask to check if '구매일_diff' is less than or equal to 60 (2 months)\n",
        "    rebuy_rate['재구매유무_1달이내'] = rebuy_rate['구매일_diff'] > - 32\n",
        "    rebuy_rate['재구매유무_2달이내'] =  rebuy_rate['구매일_diff'] > - 61\n",
        "    rebuy_rate['재구매유무_3달이내'] = rebuy_rate['구매일_diff'] > - 92\n",
        "\n",
        "\n",
        "    rebuy_rate['재구매유무_1달이내'] = rebuy_rate['재구매유무_1달이내'].astype(int)\n",
        "    rebuy_rate['재구매유무_2달이내'] = rebuy_rate['재구매유무_2달이내'].astype(int)\n",
        "    rebuy_rate['재구매유무_3달이내'] = rebuy_rate['재구매유무_3달이내'].astype(int)\n",
        "    rebuy_rate['구매연월'] = rebuy_rate['구매일'].dt.strftime(\"%Y%m\")\n",
        "    rebuy_rate.sort_values(by='구매일', inplace=True)\n",
        "    # Convert boolean values to 1 and 0\n",
        "    rebuy_rate_1 = rebuy_rate[['구매연월', '재구매유무_1달이내', '재구매유무_2달이내', '재구매유무_3달이내']]\n",
        "    mean_repurchase_by_month = rebuy_rate_1.groupby('구매연월').mean()\n",
        "    \n",
        "    mrbm = mean_repurchase_by_month.reset_index()\n",
        "    mrbm = mrbm[mrbm['구매연월'] <  '202008']\n",
        "    mrbm.set_index(mrbm['구매연월'], inplace=True)\n",
        "\n",
        "    fig = px.bar(mrbm, x=mrbm.index, y=\"재구매유무_1달이내\", color=mrbm.index,\n",
        "                color_discrete_sequence=[\"#56BDF4\"], title='재구매유무_1달이내')\n",
        "    fig.add_hline(y = 0.25, line_dash=\"dash\", line_color=\"red\")\n",
        "    fig.update_layout(showlegend=False) \n",
        "    \n",
        "    layout = go.Layout(\n",
        "            paper_bgcolor='rgba(255,255,255,0.7)',\n",
        "            plot_bgcolor='rgba(0,0,0,0)'\n",
        "        )\n",
        "    fig.update_layout(layout)\n",
        "    \n",
        "    return fig\n",
        "\n",
        "\n",
        "\n",
        "def make_page_repurchase(df):\n",
        "    fig = makeFig(df)\n",
        "    layout = [\n",
        "        dcc.Graph(figure=fig, id='graph-repurchase', className=\"graph\")\n",
        "    ]\n",
        "\n",
        "        \n",
        "    return layout\n",
        "\n",
        "if __name__ == '__main__':\n",
        "    \n",
        "    import import_ipynb\n",
        "    from util.storybook import run\n",
        "    run(make_page_repurchase)\n"
      ]
    }
  ],
  "metadata": {
    "kernelspec": {
      "display_name": ".venv",
      "language": "python",
      "name": "python3"
    },
    "language_info": {
      "codemirror_mode": {
        "name": "ipython",
        "version": 3
      },
      "file_extension": ".py",
      "mimetype": "text/x-python",
      "name": "python",
      "nbconvert_exporter": "python",
      "pygments_lexer": "ipython3",
      "version": "3.8.6"
    },
    "orig_nbformat": 4
  },
  "nbformat": 4,
  "nbformat_minor": 2
}
