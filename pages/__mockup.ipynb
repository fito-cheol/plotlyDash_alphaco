{
 "cells": [
  {
   "cell_type": "code",
   "execution_count": null,
   "metadata": {},
   "outputs": [],
   "source": [
    "from dash import Dash, html, dcc, callback, Output, Input\n",
    "import plotly.express as px\n",
    "import plotly.graph_objects as go\n",
    "import pandas as pd\n",
    "import plotly.graph_objects as go\n",
    "\n",
    "def make_fig(df):\n",
    "  pass\n",
    "def make_page_new_customer(df):\n",
    "  pass\n",
    "\n",
    "\n",
    "if __name__ == '__main__':\n",
    "    import import_ipynb\n",
    "    from util.storybook import run\n",
    "    run(make_page_new_customer, need_data=True)"
   ]
  }
 ],
 "metadata": {
  "language_info": {
   "name": "python"
  },
  "orig_nbformat": 4
 },
 "nbformat": 4,
 "nbformat_minor": 2
}
