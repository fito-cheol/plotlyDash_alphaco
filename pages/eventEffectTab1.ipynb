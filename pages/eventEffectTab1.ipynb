{
  "cells": [
    {
      "cell_type": "code",
      "execution_count": null,
      "metadata": {},
      "outputs": [],
      "source": [
        "\n",
        "from dash import Dash, html, dcc, callback, Output, Input\n",
        "import plotly.graph_objects as go\n",
        "import pandas as pd\n",
        "import plotly.graph_objects as go\n",
        "\n",
        "colors = ['#FF9933',] * 5\n",
        "colors[0] = '#56BDF4'\n",
        "colors2 = ['#56BDF4', '#D3D3D3']\n",
        "\n",
        "def make_page_event_tab1():\n",
        "    fig = go.Figure(data=[go.Bar(x=['이벤트제품','이벤트X제품'],\n",
        "                                    y=[112.37, 59.43],\n",
        "                                    marker_color=colors # marker color can be a single color value or an iterable\n",
        "                                )])\n",
        "    fig.update_layout(title_text='이벤트 유무에 따른 판매량')\n",
        "    fig.update_xaxes(tickfont=dict(size=20))\n",
        "    layout = go.Layout(\n",
        "            paper_bgcolor='rgba(255,255,255,0.7)',\n",
        "            plot_bgcolor='rgba(0,0,0,0)'\n",
        "        )\n",
        "    fig.update_layout(layout)\n",
        "    \n",
        "    return dcc.Graph(figure=fig, className=\"graph\")\n",
        "    \n",
        "if __name__ == '__main__':\n",
        "    import import_ipynb\n",
        "    from util.storybook import run\n",
        "    run(make_page_event_tab1, need_data=False)\n",
        "\n"
      ]
    }
  ],
  "metadata": {
    "language_info": {
      "name": "python"
    },
    "orig_nbformat": 4
  },
  "nbformat": 4,
  "nbformat_minor": 2
}
