{
  "cells": [
    {
      "cell_type": "code",
      "execution_count": null,
      "metadata": {},
      "outputs": [],
      "source": [
        "from dash import Dash, html, dcc, callback, Output, Input\n",
        "import plotly.express as px\n",
        "import plotly.graph_objects as go\n",
        "import pandas as pd\n",
        "import plotly.graph_objects as go\n",
        "\n",
        "def make_page_model_customer_classification():\n",
        "  div_upper = html.Div(\n",
        "      children=[\n",
        "            html.Div(\n",
        "                children=[\n",
        "                    html.H1(\"고객 분류 모델\"),\n",
        "                    html.H2(\"분류 모델 RandomForest 사용\")         \n",
        "                ],\n",
        "                style={'width': '50%', 'height': '100%'}\n",
        "            ),\n",
        "          ], \n",
        "        style={'display': 'flex'},\n",
        "        className=\"row\"\n",
        "      )\n",
        "  div_bottom = html.Div(\n",
        "            children=[html.Img(src='assets/고객_분류_모델.webp', className=\"model__picture\")],\n",
        "            className=\"container--gradient row\",\n",
        "        )\n",
        "  return [html.Div([\n",
        "        div_upper,  \n",
        "        div_bottom \n",
        "    ])]\n"
      ]
    }
  ],
  "metadata": {
    "language_info": {
      "name": "python"
    },
    "orig_nbformat": 4
  },
  "nbformat": 4,
  "nbformat_minor": 2
}
