{
 "cells": [
  {
   "cell_type": "code",
   "execution_count": null,
   "metadata": {},
   "outputs": [],
   "source": [
    "from dash import Dash, html, dcc, callback, Output, Input\n",
    "import plotly.express as px\n",
    "import plotly.graph_objects as go\n",
    "import pandas as pd\n",
    "from jupyter_dash import JupyterDash\n",
    "import dash_bootstrap_components as dbc\n",
    "\n",
    "from .google import url_to_dataframe\n",
    "\n",
    "def run(layout_func, need_data=True):\n",
    "\n",
    "  processed_df_link = \"https://drive.google.com/file/d/1l9S5UU5f7L-OeKWhMRctCdSvVVxlFt_8/view?usp=sharing\"\n",
    "\n",
    "  layout = None\n",
    "  if need_data:\n",
    "    df = url_to_dataframe(processed_df_link)\n",
    "    df['구매일'] = pd.to_datetime(df['구매일'])\n",
    "    layout = layout_func(df)\n",
    "  else:\n",
    "    layout = layout_func()\n",
    "\n",
    "  external_stylesheets = ['https://codepen.io/chriddyp/pen/bWLwgP.css', dbc.themes.QUARTZ]\n",
    "\n",
    "  app = JupyterDash(\"6조 대쉬보드\", external_stylesheets=external_stylesheets)\n",
    "  \n",
    "  \n",
    "  app.layout = html.Div(layout)\n",
    "  app.run_server(debug=True, port=8091)"
   ]
  }
 ],
 "metadata": {
  "language_info": {
   "name": "python"
  },
  "orig_nbformat": 4
 },
 "nbformat": 4,
 "nbformat_minor": 2
}
