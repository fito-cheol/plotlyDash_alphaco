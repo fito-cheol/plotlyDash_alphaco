{
 "cells": [
  {
   "cell_type": "code",
   "execution_count": null,
   "metadata": {},
   "outputs": [],
   "source": [
    "import pandas as pd\n",
    "\n",
    "def url_to_dataframe(url):\n",
    "    file_id = url.split('/')[-2]\n",
    "    download_url = 'https://drive.google.com/uc?id=' + file_id\n",
    "\n",
    "    data = pd.read_csv(download_url, encoding='utf-8', low_memory=False)\n",
    "    return data"
   ]
  }
 ],
 "metadata": {
  "language_info": {
   "name": "python"
  },
  "orig_nbformat": 4
 },
 "nbformat": 4,
 "nbformat_minor": 2
}
