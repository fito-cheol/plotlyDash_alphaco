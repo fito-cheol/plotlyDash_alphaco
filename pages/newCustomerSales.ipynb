{
 "cells": [
  {
   "cell_type": "code",
   "execution_count": 3,
   "metadata": {},
   "outputs": [
    {
     "name": "stdout",
     "output_type": "stream",
     "text": [
      "Dash is running on http://127.0.0.1:8050/\n",
      "\n",
      "Dash app running on http://127.0.0.1:8050/\n"
     ]
    }
   ],
   "source": [
    "from dash import Dash, html, dcc, callback, Output, Input\n",
    "import plotly.express as px\n",
    "import plotly.graph_objects as go\n",
    "import pandas as pd\n",
    "import plotly.graph_objects as go\n",
    "\n",
    "def make_fig():\n",
    "    colors = ['#56BDF4', '#D3D3D3']\n",
    "    data = {'신규 유입': [5342,6674,5226,4765,6326,7765,6171,5564,8826,3931,6423,2166,1954,1377,1106,976,574,757,121],\n",
    "        '매출 변화': [64225090, 33161130,25365140,46494120,14052870,90766010,-30033120,-3064680,172648320,-182681880,156414290,-61728120,-36609890,-93513370,4148720,-120746140,-65915950,70859550,-170687370 ],\n",
    "        '신규 변화': [2078,1332,-1448,-461,1561,1439,-1594,-607,3262,-4895,2492,-4257,-212,-577,-271,-130,-402,183,-636]\n",
    "        }\n",
    "\n",
    "    df_scatter = pd.DataFrame(data)\n",
    "\n",
    "    fig = px.scatter(df_scatter, x=\"신규 유입\", y=\"매출 변화\", trendline=\"ols\")\n",
    "\n",
    "    fig.update_layout(\n",
    "        xaxis=dict(title_text=\"신규 유입\", title_font=dict(size=20), tickfont=dict(size=12)),\n",
    "        yaxis=dict(title_text=\"매출 변화\", title_font=dict(size=20), tickfont=dict(size=12)),\n",
    "        font=dict(size=16)\n",
    "    )\n",
    "    layout = go.Layout(\n",
    "            paper_bgcolor='rgba(255,255,255,0.6)',\n",
    "            plot_bgcolor='rgba(0,0,0,0)'\n",
    "        )\n",
    "    fig.update_layout(layout)\n",
    "    return fig\n",
    "\n",
    "def make_page_new_customer_sales():\n",
    "    fig = make_fig()\n",
    "    return [\n",
    "           html.H1(children='신규유입과 매출변화의 연관성'),\n",
    "        html.Div(children='''\n",
    "            유아용품 쇼핑몰 A사\n",
    "        '''),\n",
    "        dcc.Graph(\n",
    "            id='graph_new_customer_sales',\n",
    "            figure=fig\n",
    "        )\n",
    "    ]\n",
    "\n",
    "\n",
    "if __name__ == '__main__':\n",
    "    import import_ipynb\n",
    "    from util.storybook import run\n",
    "    run(make_page_repurchase, need_data=False)\n"
   ]
  }
 ],
 "metadata": {
  "kernelspec": {
   "display_name": ".venv",
   "language": "python",
   "name": "python3"
  },
  "language_info": {
   "codemirror_mode": {
    "name": "ipython",
    "version": 3
   },
   "file_extension": ".py",
   "mimetype": "text/x-python",
   "name": "python",
   "nbconvert_exporter": "python",
   "pygments_lexer": "ipython3",
   "version": "3.10.0"
  },
  "orig_nbformat": 4
 },
 "nbformat": 4,
 "nbformat_minor": 2
}
