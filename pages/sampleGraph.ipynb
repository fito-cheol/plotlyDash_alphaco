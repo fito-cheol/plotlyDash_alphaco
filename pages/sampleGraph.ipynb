{
 "cells": [
  {
   "cell_type": "code",
   "execution_count": null,
   "metadata": {},
   "outputs": [],
   "source": [
    "from dash import Dash, html, dcc, callback, Output, Input\n",
    "import plotly.express as px\n",
    "\n",
    "\n",
    "def sample(df):\n",
    "    layout = [\n",
    "        html.H1(children='Title of Dash App', style={'textAlign':'center'}),\n",
    "        dcc.Dropdown(df['유입경로'].unique(), '인스타그램', id='dropdown-selection'),\n",
    "        dcc.Graph(id='graph-content')\n",
    "    ]\n",
    "\n",
    "\n",
    "    @callback(\n",
    "        Output('graph-content', 'figure'),\n",
    "        Input('dropdown-selection', 'value')\n",
    "    )\n",
    "    def update_graph(value):\n",
    "        dff = df[df['유입경로'] == value].groupby('구매일').sum()\n",
    "        return px.line(dff, x=dff.index, y='구매금액')\n",
    "    \n",
    "    \n",
    "    return layout\n",
    "\n",
    "    \n",
    "\n"
   ]
  }
 ],
 "metadata": {
  "language_info": {
   "name": "python"
  },
  "orig_nbformat": 4
 },
 "nbformat": 4,
 "nbformat_minor": 2
}
