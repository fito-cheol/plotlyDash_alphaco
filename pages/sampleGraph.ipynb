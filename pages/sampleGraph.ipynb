{
  "cells": [
    {
      "cell_type": "code",
      "execution_count": 2,
      "metadata": {},
      "outputs": [
        {
          "name": "stdout",
          "output_type": "stream",
          "text": [
            "Dash is running on http://127.0.0.1:8091/\n",
            "\n",
            "Dash app running on http://127.0.0.1:8091/\n"
          ]
        }
      ],
      "source": [
        "from dash import Dash, html, dcc, callback, Output, Input\n",
        "import plotly.express as px\n",
        "import dash_bootstrap_components as dbc\n",
        "import plotly.graph_objects as go\n",
        "\n",
        "\n",
        "def sample(df):\n",
        "    layout = [\n",
        "        dbc.Card(\n",
        "            children=[\n",
        "                html.H1(children='구매경로 별 매출', style={'textAlign':'center', 'color':'white'}),\n",
        "                html.Div(children=[\n",
        "                    dcc.Dropdown(df['유입경로'].unique(), '인스타그램', id='dropdown-selection', className='dropdown'),\n",
        "                    dcc.Graph(id='graph-content', className=\"graph\")        \n",
        "                ], style={\"width\":\"90%\"})\n",
        "            ],\n",
        "            className=\"container--gradient\"\n",
        "        )\n",
        "    ]\n",
        "\n",
        "\n",
        "    @callback(\n",
        "        Output('graph-content', 'figure'),\n",
        "        Input('dropdown-selection', 'value')\n",
        "    )\n",
        "    def update_graph(value):\n",
        "        \n",
        "        dff = df[df['유입경로'] == value].groupby('구매일').sum()\n",
        "        fig = px.line(dff, x=dff.index, y='구매금액')\n",
        "        \n",
        "        layout = go.Layout(\n",
        "            paper_bgcolor='rgba(255,255,255,0.7)',\n",
        "            plot_bgcolor='rgba(0,0,0,0)'\n",
        "        )\n",
        "        fig.update_layout(layout)\n",
        "        return fig\n",
        "    \n",
        "    \n",
        "    return layout\n",
        "\n",
        "    \n",
        "if __name__ == '__main__':\n",
        "    import import_ipynb\n",
        "    from util.storybook import run\n",
        "    run(sample)\n"
      ]
    }
  ],
  "metadata": {
    "kernelspec": {
      "display_name": ".venv",
      "language": "python",
      "name": "python3"
    },
    "language_info": {
      "codemirror_mode": {
        "name": "ipython",
        "version": 3
      },
      "file_extension": ".py",
      "mimetype": "text/x-python",
      "name": "python",
      "nbconvert_exporter": "python",
      "pygments_lexer": "ipython3",
      "version": "3.8.6"
    },
    "orig_nbformat": 4
  },
  "nbformat": 4,
  "nbformat_minor": 2
}
