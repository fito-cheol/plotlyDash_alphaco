{
  "cells": [
    {
      "cell_type": "code",
      "execution_count": null,
      "metadata": {},
      "outputs": [],
      "source": [
        "from dash import Dash, html, dcc, callback, Output, Input\n",
        "import plotly.express as px\n",
        "import plotly.graph_objects as go\n",
        "import pandas as pd\n",
        "\n",
        "\n",
        "def make_fig():\n",
        "    colors = ['#FF9933',] * 5\n",
        "    colors[0] = '#56BDF4'\n",
        "\n",
        "    fig = go.Figure(data=[go.Bar(\n",
        "        x=['이벤트제품','이벤트X제품'],\n",
        "        y=[112.37, 59.43],\n",
        "        marker_color=colors # marker color can be a single color value or an iterable\n",
        "    )])\n",
        "    fig.update_layout(title_text='event product')\n",
        "\n",
        "    fig.update_xaxes(tickfont=dict(size=20))\n",
        "    return fig\n",
        "\n",
        "def make_page_event_sales_compare():\n",
        "\n",
        "    fig = make_fig()\n",
        "    return [\n",
        "        html.H1(children='이벤트 유무 판매량'),\n",
        "        html.Div(children='''\n",
        "            유아용품 쇼핑몰 A사\n",
        "        '''),\n",
        "        dcc.Graph(\n",
        "            id='graph_event_sales_compare',\n",
        "            figure=fig\n",
        "        )\n",
        "    ]\n",
        "    \n",
        "    \n",
        "if __name__ == '__main__':\n",
        "    from jupyter_dash import JupyterDash    \n",
        "    \n",
        "    external_stylesheets = ['https://codepen.io/chriddyp/pen/bWLwgP.css']\n",
        "\n",
        "    app = JupyterDash(\"6조 대쉬보드\", external_stylesheets=external_stylesheets)\n",
        "    \n",
        "    app.layout = html.Div(make_page_event_sales_compare())\n",
        "    app.run_server(debug=True)\n",
        "    "
      ]
    },
    {
      "cell_type": "code",
      "execution_count": null,
      "metadata": {},
      "outputs": [],
      "source": []
    }
  ],
  "metadata": {
    "language_info": {
      "name": "python"
    },
    "orig_nbformat": 4
  },
  "nbformat": 4,
  "nbformat_minor": 2
}
