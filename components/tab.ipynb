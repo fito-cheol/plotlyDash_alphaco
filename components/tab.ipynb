{
 "cells": [
  {
   "cell_type": "code",
   "execution_count": null,
   "metadata": {},
   "outputs": [],
   "source": [
    "from dash import dcc, html, callback, Output, Input\n",
    "\n",
    "tabs_styles = {\n",
    "    'height': '44px'\n",
    "}\n",
    "tab_style = {\n",
    "    'borderBottom': '1px solid #d6d6d6',\n",
    "    'padding': '6px',\n",
    "    'fontWeight': 'bold'\n",
    "}\n",
    "\n",
    "tab_selected_style = {\n",
    "    'borderTop': '1px solid #d6d6d6',\n",
    "    'borderBottom': '1px solid #d6d6d6',\n",
    "    'backgroundColor': '#119DFF',\n",
    "    'color': 'white',\n",
    "    'padding': '6px'\n",
    "}\n",
    "\n",
    "\n",
    "def make_tabs(layouts):\n",
    "    \n",
    "    # @callback(Output('tabs-content-inline', 'children'),\n",
    "    #             Input('tabs-styled-with-inline', 'value'))\n",
    "    # def change_tabs(tab):\n",
    "        \n",
    "    #     return layouts[tab]\n",
    "            \n",
    "    children = []\n",
    "    for key, val in layouts.items():\n",
    "        children.append(\n",
    "            dcc.Tab(label=f'{key}', children=val )#, style=tab_style, selected_style=tab_selected_style) \n",
    "        )\n",
    "\n",
    "    return dcc.Tabs(id=\"tabs-styled-with-inline\", value='tab-1', children=[children], style=tabs_styles),\n",
    "\n",
    "    "
   ]
  }
 ],
 "metadata": {
  "language_info": {
   "name": "python"
  },
  "orig_nbformat": 4
 },
 "nbformat": 4,
 "nbformat_minor": 2
}
